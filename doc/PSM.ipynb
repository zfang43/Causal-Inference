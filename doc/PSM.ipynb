{
 "cells": [
  {
   "cell_type": "markdown",
   "metadata": {},
   "source": [
    "# Propensity Scoring Matching\n",
    "### Author: Siyuan Sang"
   ]
  },
  {
   "cell_type": "markdown",
   "metadata": {},
   "source": [
    "## Data Processing( Done by Catherine Gao)\n",
    "### 2.1 Load Required Packages\n",
    "\n",
    "\"Y\" indicates the outcome variable, \"A\" is the treatment group assignment, and the rest are covariates for consideration."
   ]
  },
  {
   "cell_type": "code",
   "execution_count": 1,
   "metadata": {},
   "outputs": [],
   "source": [
    "import numpy as np\n",
    "import pandas as pd\n",
    "import time\n",
    "import seaborn as sns\n",
    "import matplotlib.pyplot as plt\n",
    "from sklearn.linear_model import LogisticRegression\n",
    "from sklearn.model_selection import train_test_split\n",
    "from sklearn.model_selection import GridSearchCV\n",
    "\n",
    "# setting graph styles\n",
    "sns.set(rc={'figure.figsize':(10,8)})\n",
    "sns.set_theme(style='ticks')\n"
   ]
  },
  {
   "cell_type": "markdown",
   "metadata": {},
   "source": [
    "### 2.2 Load Data"
   ]
  },
  {
   "cell_type": "code",
   "execution_count": 2,
   "metadata": {},
   "outputs": [],
   "source": [
    "# load high dimensional data\n",
    "highdim_data = pd.read_csv('highDim_dataset.csv')\n",
    "\n",
    "# load low dimensional data\n",
    "lowdim_data = pd.read_csv('lowDim_dataset.csv')\n"
   ]
  },
  {
   "cell_type": "code",
   "execution_count": 3,
   "metadata": {},
   "outputs": [
    {
     "name": "stdout",
     "output_type": "stream",
     "text": [
      "The high dimensional data has 2000 observations and 187 variables.\n",
      "The low dimensional data has 500 observations and 24 variables.\n"
     ]
    }
   ],
   "source": [
    "print(\"The high dimensional data has\",highdim_data.shape[0],\"observations and\", highdim_data.shape[1], \"variables.\")\n",
    "print(\"The low dimensional data has\",lowdim_data.shape[0],\"observations and\", lowdim_data.shape[1], \"variables.\")\n",
    "      "
   ]
  },
  {
   "cell_type": "markdown",
   "metadata": {},
   "source": [
    "## 3 Propensity Scores Estimation and Evaluation(Done by Cathrine Gao)\n",
    "We will use L1 penalized logistic regression to estimate propensity scores for both data sets."
   ]
  },
  {
   "cell_type": "markdown",
   "metadata": {},
   "source": [
    "### 3.1 Create Propensity Score Estimation Functions"
   ]
  },
  {
   "cell_type": "code",
   "execution_count": 4,
   "metadata": {},
   "outputs": [],
   "source": [
    "# create a function to tune for best hyperparameters for each data set\n",
    "\n",
    "def best_param(data, random_state, param_grid, cv=10):\n",
    "    '''\n",
    "    Purpose: to find the best parameter \"C\" (coefficient of regularization strength) for the specific dataset\n",
    "    \n",
    "    Parameters:\n",
    "    data - dataset to best tested on \n",
    "    random_state - set seed\n",
    "    param_grid - set of parameter values to test on\n",
    "    cv - number of folds for cross-validation\n",
    "    \n",
    "    '''\n",
    "\n",
    "    x = data.drop(['A','Y'], axis = 1)  \n",
    "    y = data[['A']].values.ravel()\n",
    "    \n",
    "    x_train, x_test, y_train, y_test = train_test_split(x, y, test_size=0.25, random_state=random_state)\n",
    "    \n",
    "    \n",
    "    model_cv = GridSearchCV(LogisticRegression(penalty='l1',solver = 'liblinear'), param_grid, cv=cv)\n",
    "    model_cv.fit(x_train, y_train)\n",
    "    \n",
    "    print(\"The best tuned coefficient of regularization strength is\",model_cv.best_params_.get('C'), \n",
    "          \"with a testing accuracy of\", model_cv.score(x_test, y_test))\n",
    "    \n",
    "    return model_cv.best_params_.get('C')\n"
   ]
  },
  {
   "cell_type": "code",
   "execution_count": 10,
   "metadata": {},
   "outputs": [],
   "source": [
    "def propensity_score(data, C=0.1, plot = True):\n",
    "    '''\n",
    "    Purpose: to estimate propensity score with L1 penalized logistic regression\n",
    "    \n",
    "    Parameters:\n",
    "    data - dataset to estimate on \n",
    "    C - coeficient of regularization strength\n",
    "    plot - print out visualization to show distribution of propensity scores\n",
    "    \n",
    "    Returns:\n",
    "    1. ps for Propensity Score\n",
    "    2. Visualization plot to show distribution of propensity scores\n",
    "    \n",
    "    '''\n",
    "    \n",
    "    T = 'A'\n",
    "    Y = 'Y'\n",
    "    X = data.columns.drop([T,Y])\n",
    "    \n",
    "    ps_model = LogisticRegression(random_state=2021, penalty='l1',\n",
    "                                  solver='liblinear').fit(data[X], data[T]) \n",
    "    \n",
    "    ps = ps_model.predict_proba(data[X])[:,1] # we are interested in the probability of getting a \"1\"\n",
    "    \n",
    "    if plot:\n",
    "        df_plot = pd.DataFrame({'Treatment':data[T], 'Propensity Score':ps})\n",
    "        \n",
    "        sns.histplot(data=df_plot, x = \"Propensity Score\", hue = \"Treatment\", element = \"step\")\n",
    "        plt.title(\"Distribution of Propensity Score by Treatment Group\", size=20)\n",
    "        plt.show()\n",
    "   \n",
    "    return ps\n"
   ]
  },
  {
   "cell_type": "code",
   "execution_count": 6,
   "metadata": {},
   "outputs": [],
   "source": [
    "# setting parameters\n",
    "param_grid = {\"C\":[0.01,0.05,0.1,0.3,0.5,0.7,1]}"
   ]
  },
  {
   "cell_type": "markdown",
   "metadata": {},
   "source": [
    "### 3.2 Evaluate Propensity Scores for High Dimensional Data"
   ]
  },
  {
   "cell_type": "code",
   "execution_count": 8,
   "metadata": {},
   "outputs": [
    {
     "name": "stdout",
     "output_type": "stream",
     "text": [
      "The best tuned coefficient of regularization strength is 0.01 with a testing accuracy of 0.71\n"
     ]
    }
   ],
   "source": [
    "# use 10-fold cross-validation to tune for the best parameter for logistic regression\n",
    "c_high = best_param(highdim_data, random_state=2021, param_grid=param_grid)"
   ]
  },
  {
   "cell_type": "code",
   "execution_count": 11,
   "metadata": {},
   "outputs": [
    {
     "data": {
      "image/png": "[encoded data removed]",
      "text/plain": [
       "<Figure size 720x576 with 1 Axes>"
      ]
     },
     "metadata": {},
     "output_type": "display_data"
    }
   ],
   "source": [
    "# estimate propsensity scores\n",
    "ps_high = propensity_score(highdim_data, C = c_high)"
   ]
  },
  {
   "cell_type": "markdown",
   "metadata": {},
   "source": [
    "### 3.3 Evaluate Propensity Scores for Low Dimensional Data"
   ]
  },
  {
   "cell_type": "code",
   "execution_count": 13,
   "metadata": {},
   "outputs": [
    {
     "name": "stdout",
     "output_type": "stream",
     "text": [
      "The best tuned coefficient of regularization strength is 0.3 with a testing accuracy of 0.8\n"
     ]
    }
   ],
   "source": [
    "# use 10-fold cross-validation to tune for the best parameter for logistic regression\n",
    "c_low = best_param(lowdim_data, random_state=2021, param_grid=param_grid)"
   ]
  },
  {
   "cell_type": "code",
   "execution_count": 14,
   "metadata": {
    "scrolled": true
   },
   "outputs": [
    {
     "data": {
      "image/png": "[encoded data removed]",
      "text/plain": [
       "<Figure size 720x576 with 1 Axes>"
      ]
     },
     "metadata": {},
     "output_type": "display_data"
    }
   ],
   "source": [
    "ps_low = propensity_score(lowdim_data, C = c_low)"
   ]
  },
  {
   "cell_type": "markdown",
   "metadata": {},
   "source": [
    "## Conclusion\n",
    "\n",
    "Propensity scores have been estimated using L1 penalized logistic regression. For algorithm testing, use ps_low for the low dimensional data and ps_high for the high dimensional data. "
   ]
  },
  {
   "cell_type": "markdown",
   "metadata": {},
   "source": [
    "### 4 PSM with Propensity Score Measure\n",
    "Estimate ATE with the PSM method(PS)"
   ]
  },
  {
   "cell_type": "code",
   "execution_count": 15,
   "metadata": {},
   "outputs": [],
   "source": [
    "highdim_data['PS']=ps_high\n",
    "lowdim_data['PS']=ps_low"
   ]
  },
  {
   "cell_type": "code",
   "execution_count": 16,
   "metadata": {},
   "outputs": [],
   "source": [
    "def PSM(treated_df, control_df):\n",
    "    \n",
    "    #Get Distances\n",
    "    treated_df.loc[:,'group']=None\n",
    "    treated_df.loc[:,'control_Y']=None\n",
    "    treated_df.loc[:,'D']=None\n",
    "    for i in range(len(treated_df)):\n",
    "        temp_d=[]\n",
    "        for j in range(len(control_df)):\n",
    "            temp_d.append(abs(treated_df.loc[i,'PS']-control_df.loc[j,'PS']))\n",
    "        index=temp_d.index(np.min(temp_d))\n",
    "        treated_df.loc[i,'control_Y']=control_df.loc[index,'Y']\n",
    "        treated_df.loc[i,'D']=np.min(temp_d)\n",
    "        \n",
    "    #Split class\n",
    "    #Here, we deide to create 5 subclasses\n",
    "    r=(max(treated_df.loc[:,'D'])-min(treated_df.loc[:,'D']))/5\n",
    "    for i in range(len(treated_df)):\n",
    "        if treated_df.loc[i,'D'] <= min(treated_df.loc[:,'D'])+r:\n",
    "            treated_df.loc[i,'group']=0\n",
    "        elif treated_df.loc[i,'D'] > min(treated_df.loc[:,'D'])+r and treated_df.loc[i,'D'] <= min(treated_df.loc[:,'D'])+2*r:\n",
    "            treated_df.loc[i,'group']=1\n",
    "        elif treated_df.loc[i,'D'] > min(treated_df.loc[:,'D'])+2*r and treated_df.loc[i,'D'] <= min(treated_df.loc[:,'D'])+3*r:\n",
    "            treated_df.loc[i,'group']=2\n",
    "        elif treated_df.loc[i,'D'] > min(treated_df.loc[:,'D'])+3*r and treated_df.loc[i,'D'] <= min(treated_df.loc[:,'D'])+4*r:\n",
    "            treated_df.loc[i,'group']=3\n",
    "        else:\n",
    "            treated_df.loc[i,'group']=4\n",
    "            \n",
    "    #Calculate ATE\n",
    "    TE=[]\n",
    "    for i in range(5):\n",
    "        temp=treated_df[treated_df.loc[:,'group']==i]\n",
    "        a=(temp.loc[:,'Y']-temp.loc[:,'control_Y']).mean()*len(temp)/len(treated_df)    \n",
    "        TE.append(a)\n",
    "    ATE=np.nanmean(TE)\n",
    "    \n",
    "    return ATE\n",
    "\n",
    "    "
   ]
  },
  {
   "cell_type": "markdown",
   "metadata": {},
   "source": [
    "## Perform on low dimention dataset"
   ]
  },
  {
   "cell_type": "code",
   "execution_count": 19,
   "metadata": {},
   "outputs": [],
   "source": [
    "PS_low_start = time.time()\n",
    "treated_low=lowdim_data[lowdim_data.A==1]\n",
    "treated_low.reset_index(drop=True, inplace=True)\n",
    "control_low=lowdim_data[lowdim_data.A==0]\n",
    "control_low.reset_index(drop=True, inplace=True)"
   ]
  },
  {
   "cell_type": "code",
   "execution_count": 20,
   "metadata": {
    "scrolled": true
   },
   "outputs": [
    {
     "name": "stderr",
     "output_type": "stream",
     "text": [
      "C:\\Users\\13605\\anaconda3\\lib\\site-packages\\pandas\\core\\indexing.py:1596: SettingWithCopyWarning: \n",
      "A value is trying to be set on a copy of a slice from a DataFrame.\n",
      "Try using .loc[row_indexer,col_indexer] = value instead\n",
      "\n",
      "See the caveats in the documentation: https://pandas.pydata.org/pandas-docs/stable/user_guide/indexing.html#returning-a-view-versus-a-copy\n",
      "  self.obj[key] = _infer_fill_value(value)\n",
      "C:\\Users\\13605\\anaconda3\\lib\\site-packages\\pandas\\core\\indexing.py:1765: SettingWithCopyWarning: \n",
      "A value is trying to be set on a copy of a slice from a DataFrame.\n",
      "Try using .loc[row_indexer,col_indexer] = value instead\n",
      "\n",
      "See the caveats in the documentation: https://pandas.pydata.org/pandas-docs/stable/user_guide/indexing.html#returning-a-view-versus-a-copy\n",
      "  isetter(loc, value)\n"
     ]
    }
   ],
   "source": [
    "PS_low_ETA=PSM(treated_low, control_low)\n",
    "PS_low_end = time.time()\n",
    "PS_low_accu = (2.0901 - PS_low_ETA)/2.0901\n",
    "PS_low_time = PS_low_end - PS_low_start"
   ]
  },
  {
   "cell_type": "code",
   "execution_count": 21,
   "metadata": {},
   "outputs": [
    {
     "name": "stdout",
     "output_type": "stream",
     "text": [
      "PSM method for low dimensional dataset:\n",
      " ETA = 0.90\n",
      " Accuracy = 0.57\n",
      " PSM running time = 1.53\n"
     ]
    }
   ],
   "source": [
    "print(f'PSM method for low dimensional dataset:\\n ETA = {PS_low_ETA:0.2f}\\n Accuracy = {PS_low_accu:0.2f}\\n PSM running time = {PS_low_time:0.2f}')"
   ]
  },
  {
   "cell_type": "markdown",
   "metadata": {},
   "source": [
    "## Perform on high dimention dataset"
   ]
  },
  {
   "cell_type": "code",
   "execution_count": 25,
   "metadata": {},
   "outputs": [],
   "source": [
    "PS_high_start = time.time()\n",
    "treated_high=highdim_data[highdim_data.A==1]\n",
    "treated_high.reset_index(drop=True, inplace=True)\n",
    "control_high=highdim_data[highdim_data.A==0]\n",
    "control_high.reset_index(drop=True, inplace=True)"
   ]
  },
  {
   "cell_type": "code",
   "execution_count": 26,
   "metadata": {
    "scrolled": true
   },
   "outputs": [
    {
     "name": "stderr",
     "output_type": "stream",
     "text": [
      "C:\\Users\\13605\\anaconda3\\lib\\site-packages\\pandas\\core\\indexing.py:1596: SettingWithCopyWarning: \n",
      "A value is trying to be set on a copy of a slice from a DataFrame.\n",
      "Try using .loc[row_indexer,col_indexer] = value instead\n",
      "\n",
      "See the caveats in the documentation: https://pandas.pydata.org/pandas-docs/stable/user_guide/indexing.html#returning-a-view-versus-a-copy\n",
      "  self.obj[key] = _infer_fill_value(value)\n",
      "C:\\Users\\13605\\anaconda3\\lib\\site-packages\\pandas\\core\\indexing.py:1765: SettingWithCopyWarning: \n",
      "A value is trying to be set on a copy of a slice from a DataFrame.\n",
      "Try using .loc[row_indexer,col_indexer] = value instead\n",
      "\n",
      "See the caveats in the documentation: https://pandas.pydata.org/pandas-docs/stable/user_guide/indexing.html#returning-a-view-versus-a-copy\n",
      "  isetter(loc, value)\n"
     ]
    }
   ],
   "source": [
    "PS_high_ETA=PSM(treated_high, control_high)\n",
    "PS_high_end = time.time()\n",
    "PS_high_accu = (54.8558 + PS_high_ETA)/54.8558\n",
    "PS_high_time = PS_high_end - PS_high_start"
   ]
  },
  {
   "cell_type": "code",
   "execution_count": 28,
   "metadata": {},
   "outputs": [
    {
     "name": "stdout",
     "output_type": "stream",
     "text": [
      "PSM method for high dimensional dataset:\n",
      " ETA = -11.82\n",
      " Accuracy = 0.78\n",
      " PSM running time = 11.37\n"
     ]
    }
   ],
   "source": [
    "print(f'PSM method for high dimensional dataset:\\n ETA = {PS_high_ETA:0.2f}\\n Accuracy = {PS_high_accu:0.2f}\\n PSM running time = {PS_high_time:0.2f}')"
   ]
  },
  {
   "cell_type": "code",
   "execution_count": null,
   "metadata": {},
   "outputs": [],
   "source": []
  }
 ],
 "metadata": {
  "kernelspec": {
   "display_name": "Python 3",
   "language": "python",
   "name": "python3"
  },
  "language_info": {
   "codemirror_mode": {
    "name": "ipython",
    "version": 3
   },
   "file_extension": ".py",
   "mimetype": "text/x-python",
   "name": "python",
   "nbconvert_exporter": "python",
   "pygments_lexer": "ipython3",
   "version": "3.8.5"
  }
 },
 "nbformat": 4,
 "nbformat_minor": 4
}
